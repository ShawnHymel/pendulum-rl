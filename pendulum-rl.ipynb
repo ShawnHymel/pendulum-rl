{
 "cells": [
  {
   "cell_type": "markdown",
   "id": "4561acc1-bea2-4e8b-8342-e1de5391f578",
   "metadata": {},
   "source": [
    "TODO:\n",
    " * Stepper motor skipping steps--more current (better power supply)?\n",
    " * Normalize action and observation spaces (see: https://ai.stackexchange.com/questions/21477/why-do-we-also-need-to-normalize-the-actions-values-on-continuous-action-spaces)"
   ]
  },
  {
   "cell_type": "code",
   "execution_count": 3,
   "id": "37363014-d5bd-4d0b-8093-ad182644070c",
   "metadata": {},
   "outputs": [],
   "source": [
    "# !python -m pip install gymnasium==0.28.1\n",
    "# !python -m pip install stable-baselines3[extra]==2.1.0\n",
    "# !python -m pip install ax-platform==0.3.4\n",
    "# !python -m pip install wandb"
   ]
  },
  {
   "cell_type": "code",
   "execution_count": 4,
   "id": "81ed8b9b-73a0-4c11-9c12-4bbd6b0debfa",
   "metadata": {},
   "outputs": [
    {
     "name": "stdout",
     "output_type": "stream",
     "text": [
      "torch version: 2.0.0\n",
      "gymnasium version: 0.28.1\n",
      "sb3 version: 2.1.0\n",
      "cv2 version: 4.7.0.68\n",
      "ax version: 0.3.4\n"
     ]
    }
   ],
   "source": [
    "# Check versions\n",
    "import importlib.metadata\n",
    "\n",
    "print(f\"torch version: {importlib.metadata.version('torch')}\")\n",
    "print(f\"gymnasium version: {importlib.metadata.version('gymnasium')}\")\n",
    "print(f\"sb3 version: {importlib.metadata.version('stable-baselines3')}\")\n",
    "print(f\"cv2 version: {importlib.metadata.version('opencv-python')}\")\n",
    "print(f\"ax version: {importlib.metadata.version('ax-platform')}\")"
   ]
  },
  {
   "cell_type": "code",
   "execution_count": 5,
   "id": "6601a351-afc4-4ad6-8119-335dce1392cb",
   "metadata": {},
   "outputs": [],
   "source": [
    "# Python Standard Library\n",
    "import time\n",
    "import datetime\n",
    "import os\n",
    "import random\n",
    "import logging\n",
    "import math\n",
    "import csv\n",
    "from typing import Any, Dict, Tuple, Union\n",
    "\n",
    "# Encoder and stepper controls (local)\n",
    "from control_comms import ControlComms, StatusCode, DebugLevel\n",
    "\n",
    "# Third-party packages\n",
    "import gymnasium as gym\n",
    "import matplotlib.pyplot as plt\n",
    "import numpy as np\n",
    "import wandb\n",
    "\n",
    "# Reinforcement model modules\n",
    "import stable_baselines3 as sb3\n",
    "from stable_baselines3.common import env_checker\n",
    "from stable_baselines3.common.callbacks import BaseCallback\n",
    "from stable_baselines3.common.logger import KVWriter, Logger\n",
    "\n",
    "# Meta Ax\n",
    "from ax.service.ax_client import AxClient\n",
    "from ax.service.managed_loop import optimize\n",
    "from ax.utils.notebook.plotting import render\n",
    "from ax.utils.tutorials.cnn_utils import train, evaluate"
   ]
  },
  {
   "cell_type": "markdown",
   "id": "002868a4-1404-46fb-88a0-80adf9ee9dc9",
   "metadata": {
    "tags": []
   },
   "source": [
    "## Settings"
   ]
  },
  {
   "cell_type": "code",
   "execution_count": 6,
   "id": "5512c5e3-f346-4866-be07-c9f275fc1b7e",
   "metadata": {},
   "outputs": [],
   "source": [
    "# Communication settings\n",
    "SERIAL_PORT = \"COM4\"    # Check your devices\n",
    "BAUD_RATE = 500_000   # Must match what's in the Arduino code!\n",
    "CTRL_TIMEOUT = 2.0      # Seconds\n",
    "DEBUG_LEVEL = DebugLevel.DEBUG_ERROR\n",
    "\n",
    "# Reinforcement learning settings\n",
    "K_T = 5                 # Reward constant to multiply theta (angle of encoder)\n",
    "K_DT = 0.05             # Reward constant to multiply dtheto/dt (angular velocity of encoder)\n",
    "K_P = 2                 # Reward constant to multiply phi (angle of stepper)\n",
    "K_DP = 0.05             # Reward constant to multiply dphi/dt (angular velocity of stepper)\n",
    "REWARD_OOB = -500       # Reward (penalty) for having the stepper motor move out of bounds (OOB)\n",
    "ENC_ANGLE_NORM = 180    # Divide by this to normalize +/-180 deg angle to +/-1\n",
    "STP_MOVE_MIN = -10.0\n",
    "STP_MOVE_MAX = 10.0\n",
    "STP_ANGLE_MIN = -180    # Episode ends if stepper goes beyond this angle\n",
    "STP_ANGLE_MAX = 180     # Episode ends if stepper goes beyond this angle\n",
    "STP_ANGLE_NORM = 180    # Divide by this to normalize +/-180 deg angle to +/-1\n",
    "\n",
    "ENV_TIMEOUT = 30.0\n",
    "RESET_SETTLE_TIME = 2.0 # Seconds to wait after reset to start moving again\n",
    "\n",
    "# Angle constants\n",
    "ENC_OFFSET = 180.0      # Pendulum in the \"up\" position should be 0 deg\n",
    "ANG_REV = 360           # Degrees in a single revolution"
   ]
  },
  {
   "cell_type": "code",
   "execution_count": 7,
   "id": "631b6b53-ca9c-41c4-858c-581fcfbbe524",
   "metadata": {},
   "outputs": [],
   "source": [
    "# Communication constants\n",
    "CMD_SET_HOME = 0        # Set current stepper position as home (0 deg)\n",
    "CMD_MOVE_TO = 1         # Move stepper to a particular position (deg)\n",
    "CMD_MOVE_BY = 2         # Move stepper by a given amount (deg)\n",
    "CMD_SET_STEP_MODE = 3   # Set step mode\n",
    "CMD_SET_BLOCK_MODE = 4  # Set blocking mode\n",
    "CMD_NOP = 5             # Take no action, just receive observation\n",
    "STEP_MODE_1 = 0         # 1 division per step\n",
    "STEP_MODE_2 = 1         # 2 divisions per step\n",
    "STEP_MODE_4 = 2         # 4 divisions per step\n",
    "STEP_MODE_8 = 3         # 8 divisions per step\n",
    "STEP_MODE_16 = 4        # 16 divisions per step\n",
    "STATUS_OK = 0           # Stepper idle\n",
    "STATUS_STP_MOVING = 1   # Stepper is currently moving\n",
    "\n",
    "# Set to desired step mode\n",
    "STEP_MODE = STEP_MODE_8"
   ]
  },
  {
   "cell_type": "markdown",
   "id": "00724565-b597-4c6a-a8fd-9dec4114949b",
   "metadata": {
    "tags": []
   },
   "source": [
    "## Setup"
   ]
  },
  {
   "cell_type": "code",
   "execution_count": 56,
   "id": "316bc585-a495-4ad3-ae94-6b0930a38bed",
   "metadata": {},
   "outputs": [],
   "source": [
    "# Close connection to Arduino board (if open)\n",
    "try:\n",
    "    controller.close()\n",
    "except:\n",
    "    pass"
   ]
  },
  {
   "cell_type": "code",
   "execution_count": 57,
   "id": "bd6f5fef-12a0-405f-972a-fc6eb40b2ec2",
   "metadata": {},
   "outputs": [],
   "source": [
    "# Connect to Arduino board\n",
    "controller = ControlComms(timeout=CTRL_TIMEOUT, debug_level=DEBUG_LEVEL)\n",
    "ret = controller.connect(SERIAL_PORT, BAUD_RATE)\n",
    "if ret is not StatusCode.OK:\n",
    "    print(\"ERROR: Could not connect to board\")"
   ]
  },
  {
   "cell_type": "code",
   "execution_count": 58,
   "id": "61f80790-322b-498b-bef8-211d8a2696d2",
   "metadata": {},
   "outputs": [
    {
     "data": {
      "text/plain": [
       "(1, 178555, False, [0.0, 0.0])"
      ]
     },
     "execution_count": 58,
     "metadata": {},
     "output_type": "execute_result"
    }
   ],
   "source": [
    "# Test basic comms\n",
    "controller.step(CMD_SET_STEP_MODE, [STEP_MODE_8])\n",
    "controller.step(CMD_SET_HOME, [0])\n",
    "controller.step(CMD_SET_BLOCK_MODE, [0])\n",
    "controller.step(CMD_MOVE_BY, [-25])"
   ]
  },
  {
   "cell_type": "code",
   "execution_count": 59,
   "id": "ef863618-7b2e-464f-9da1-f4f1f957d0ca",
   "metadata": {},
   "outputs": [
    {
     "data": {
      "text/plain": [
       "(1, 179710, False, [8.4, -24.75])"
      ]
     },
     "execution_count": 59,
     "metadata": {},
     "output_type": "execute_result"
    }
   ],
   "source": [
    "# Numpy test\n",
    "action = np.array([[-25]])\n",
    "action_list = action.flatten().tolist()\n",
    "controller.step(CMD_MOVE_BY, action_list)"
   ]
  },
  {
   "cell_type": "code",
   "execution_count": 60,
   "id": "9eeb8708-c488-42c6-8b2d-a6026fe9ea46",
   "metadata": {},
   "outputs": [
    {
     "name": "stdout",
     "output_type": "stream",
     "text": [
      "(1, 180577, False, [11.1, -49.5])\n",
      "(1, 180695, False, [5.4, -44.1])\n",
      "(1, 180822, False, [349.8, -30.6])\n",
      "(1, 180947, False, [335.1, -9.0])\n",
      "(1, 181071, False, [332.4, 13.27])\n",
      "(1, 181196, False, [345.9, 36.45])\n",
      "(1, 181320, False, [357.0, 58.5])\n",
      "(1, 181445, False, [6.0, 81.0])\n",
      "(1, 181571, False, [12.6, 104.18])\n",
      "(1, 181696, False, [15.6, 126.22])\n",
      "(1, 181821, False, [10.2, 149.4])\n",
      "(1, 181944, False, [359.7, 172.12])\n",
      "(1, 182069, False, [351.3, 194.4])\n",
      "(1, 182194, False, [347.1, 216.9])\n",
      "(1, 182318, False, [348.3, 240.07])\n",
      "(1, 182443, False, [354.3, 263.25])\n",
      "(1, 182567, False, [2.7, 286.2])\n",
      "(1, 182692, False, [9.6, 308.48])\n",
      "(1, 182818, False, [11.7, 332.1])\n",
      "(1, 182943, False, [13.5, 348.75])\n"
     ]
    }
   ],
   "source": [
    "# Test hard limit (360 deg)\n",
    "for i in range(20):\n",
    "    resp = controller.step(CMD_MOVE_BY, [50])\n",
    "    print(resp)\n",
    "    time.sleep(0.1)"
   ]
  },
  {
   "cell_type": "code",
   "execution_count": 62,
   "id": "c323e9db-1363-431f-8bae-9d44c0a03085",
   "metadata": {},
   "outputs": [
    {
     "name": "stdout",
     "output_type": "stream",
     "text": [
      "(0, 267023, False, [27.9, 1.12])\n",
      "(0, 270065, False, [50.4, 0.0])\n",
      "(0, 271075, False, [279.6, -179.77])\n",
      "(0, 272104, False, [262.8, 0.22])\n",
      "(0, 273106, False, [231.6, -179.55])\n",
      "(0, 274133, False, [287.1, 0.45])\n",
      "(0, 275135, False, [346.8, -179.32])\n",
      "(0, 276164, False, [223.8, 0.68])\n",
      "(0, 277173, False, [284.7, -179.1])\n",
      "(0, 278203, False, [107.1, 0.9])\n",
      "(0, 279217, False, [62.1, -178.87])\n"
     ]
    }
   ],
   "source": [
    "# Stress/torque test\n",
    "resp = controller.step(CMD_MOVE_TO, [0])\n",
    "controller.step(CMD_SET_BLOCK_MODE, [1])\n",
    "print(resp)\n",
    "time.sleep(2.0)\n",
    "action = 180\n",
    "for i in range(10):\n",
    "    action = -180 if action == 180 else 180\n",
    "    resp = controller.step(CMD_MOVE_BY, [action])\n",
    "    print(resp)\n",
    "    time.sleep(0.01)"
   ]
  },
  {
   "cell_type": "code",
   "execution_count": 26,
   "id": "4cfacfca-7ede-4fc3-a300-083084de93fd",
   "metadata": {},
   "outputs": [],
   "source": [
    "# Comms stress test\n",
    "# resp = controller.step(CMD_MOVE_TO, [0])\n",
    "# print(resp)\n",
    "# time.sleep(2.0)\n",
    "# for i in range(100000):\n",
    "#     resp = controller.step(CMD_MOVE_BY, [0])\n",
    "#     time.sleep(0.001)"
   ]
  },
  {
   "cell_type": "code",
   "execution_count": 63,
   "id": "a35db2c4-96d4-42f2-81f1-4b6a3746e9c2",
   "metadata": {},
   "outputs": [
    {
     "name": "stdout",
     "output_type": "stream",
     "text": [
      "(0, 284730, False, [46.2, 1.12])\n"
     ]
    }
   ],
   "source": [
    "# Move home\n",
    "resp = controller.step(CMD_MOVE_TO, [0])\n",
    "print(resp)"
   ]
  },
  {
   "cell_type": "code",
   "execution_count": 28,
   "id": "6c07c94e-8ab6-490f-b856-ca817352049c",
   "metadata": {},
   "outputs": [],
   "source": [
    "# Close comms\n",
    "controller.close()"
   ]
  },
  {
   "cell_type": "code",
   "execution_count": 64,
   "id": "827948c0-7a81-44e3-81e3-95d5c13eafb6",
   "metadata": {},
   "outputs": [
    {
     "name": "stdout",
     "output_type": "stream",
     "text": [
      "(0, 308197, False, [0.0, 0.0])\n",
      "(0, 308217, False, [0.0, 0.0])\n",
      "(0, 310232, False, [0.0, 0.0])\n",
      "(0, 312465, False, [0.0, 0.0])\n",
      "(0, 312792, False, [359.4, -9.68])\n",
      "(0, 313119, False, [355.5, -19.35])\n",
      "(0, 313431, False, [1.8, -29.02])\n",
      "(0, 313759, False, [356.4, -38.7])\n",
      "(0, 314087, False, [358.5, -48.38])\n",
      "(0, 314414, False, [0.9, -58.05])\n",
      "(0, 314740, False, [356.4, -67.72])\n",
      "(0, 315066, False, [0.6, -77.4])\n",
      "(0, 315396, False, [358.8, -87.07])\n",
      "(0, 316226, False, [358.5, -96.75])\n"
     ]
    }
   ],
   "source": [
    "# Basic step test\n",
    "action = np.array([[-10]])\n",
    "\n",
    "controller = ControlComms(timeout=CTRL_TIMEOUT, debug_level=DEBUG_LEVEL)\n",
    "ret = controller.connect(SERIAL_PORT, BAUD_RATE)\n",
    "if ret is not StatusCode.OK:\n",
    "    print(\"ERROR: Could not connect to board\")\n",
    "\n",
    "resp = controller.step(CMD_SET_BLOCK_MODE, [1])\n",
    "print(resp)\n",
    "resp = controller.step(CMD_SET_BLOCK_MODE, [1])\n",
    "print(resp)\n",
    "    \n",
    "# Reset\n",
    "time.sleep(2.0)\n",
    "resp = controller.step(CMD_MOVE_TO, [0.0])\n",
    "print(resp)\n",
    "time.sleep(2.0)\n",
    "\n",
    "# Loop\n",
    "for i in range(10):\n",
    "    action_list = action.flatten().tolist()\n",
    "    resp = controller.step(CMD_MOVE_BY, action_list)\n",
    "    print(resp)\n",
    "    time.sleep(0.1)\n",
    "\n",
    "# Move home and close\n",
    "resp = controller.step(CMD_MOVE_TO, [0])\n",
    "print(resp)\n",
    "controller.close()"
   ]
  },
  {
   "cell_type": "code",
   "execution_count": 65,
   "id": "fbf62f43-718b-4997-b112-86c364a3f7f8",
   "metadata": {},
   "outputs": [
    {
     "data": {
      "text/plain": [
       "True"
      ]
     },
     "execution_count": 65,
     "metadata": {},
     "output_type": "execute_result"
    }
   ],
   "source": [
    "# Log in to Weights & Biases\n",
    "wandb.login()"
   ]
  },
  {
   "cell_type": "code",
   "execution_count": 66,
   "id": "b3cce2f0-188f-40af-9282-ea58bb80e27e",
   "metadata": {},
   "outputs": [],
   "source": [
    "# Make wandb be quiet\n",
    "os.environ[\"WANDB_SILENT\"] = \"true\"\n",
    "logger = logging.getLogger(\"wandb\")\n",
    "logger.setLevel(logging.ERROR)"
   ]
  },
  {
   "cell_type": "markdown",
   "id": "1566ff73-1195-4710-bab6-05a8309f7fa2",
   "metadata": {
    "tags": []
   },
   "source": [
    "## Helper functions"
   ]
  },
  {
   "cell_type": "code",
   "execution_count": 32,
   "id": "e6800b3d-197b-465f-b09b-b451708a16ac",
   "metadata": {},
   "outputs": [],
   "source": [
    "def set_random_seeds(seed: int) -> None:\n",
    "    \"\"\"\n",
    "    Seed the different random generators.\n",
    "    https://stable-baselines3.readthedocs.io/en/master/_modules/stable_baselines3/common/utils.html\n",
    "    \"\"\"\n",
    "    \n",
    "    # Set seed for Python random and NumPy\n",
    "    random.seed(seed)\n",
    "    np.random.seed(seed)"
   ]
  },
  {
   "cell_type": "code",
   "execution_count": 33,
   "id": "c9bb2c64-36e7-41cc-9c86-67b35d741ef0",
   "metadata": {},
   "outputs": [],
   "source": [
    "def calc_angular_velocity(ang, ang_prev, dt):\n",
    "    \"\"\"\n",
    "    Estimate engular velocity based on current and previous readings. Note that we assume that the\n",
    "    object in question cannot go the long way around (e.g. more than 180 deg).\n",
    "    \"\"\"\n",
    "    da = ang - ang_prev\n",
    "    if da > (ANG_REV / 2):\n",
    "        da -= ANG_REV\n",
    "    elif da < -(ANG_REV / 2):\n",
    "        da += ANG_REV\n",
    "    \n",
    "    return da / dt"
   ]
  },
  {
   "cell_type": "markdown",
   "id": "dd9cd180-65fe-40f2-88bf-e584bdbbd2cd",
   "metadata": {
    "tags": []
   },
   "source": [
    "## Build gym Environment\n",
    "\n",
    "Subclass gymnasium.Env to create a custom environment. Learn more here:<br>\n",
    "https://gymnasium.farama.org/tutorials/gymnasium_basics/environment_creation/"
   ]
  },
  {
   "cell_type": "code",
   "execution_count": 67,
   "id": "32bcddaa-b899-4cab-9a7b-82bd214c3513",
   "metadata": {},
   "outputs": [],
   "source": [
    "class Pendulum(gym.Env):\n",
    "    \"\"\"\n",
    "    Subclass gymnasium Env class\n",
    "    \n",
    "    This is the gym wrapper class that allows our agent to interact with our environment. We need\n",
    "    to implement four main methods: step(), reset(), render(), and close(). We should also define\n",
    "    the action_space and observation space as class members.\n",
    "    \n",
    "    Note: on Windows, time.sleep() is only accurate to around 10ms. As a result, setting fps_limit\n",
    "    will give you a \"best effort\" limit.\n",
    "    \n",
    "    More information: https://gymnasium.farama.org/api/env/\n",
    "    \"\"\"\n",
    "    \n",
    "    def __init__(\n",
    "        self,\n",
    "        serial_port,\n",
    "        baud_rate,\n",
    "        ctrl_timeout=1.0,\n",
    "        debug_level=DebugLevel.DEBUG_NONE,\n",
    "        env_timeout=0.0, \n",
    "        stp_mode=STEP_MODE_8, \n",
    "        stp_blocking=False\n",
    "    ):\n",
    "        \"\"\"\n",
    "        Set up the environment, action, and observation shapes. Optional tiemout in seconds.\n",
    "        \"\"\"\n",
    "        \n",
    "        # Call superclass's constructor\n",
    "        super().__init__()\n",
    "        \n",
    "        # Connect to Arduino board\n",
    "        self.ctrl = ControlComms(timeout=ctrl_timeout, debug_level=debug_level)\n",
    "        try:\n",
    "            self.ctrl.close()\n",
    "        except:\n",
    "            pass\n",
    "        ret = self.ctrl.connect(serial_port, baud_rate)\n",
    "        if ret is not StatusCode.OK:\n",
    "            print(\"ERROR: Could not connect to board\")\n",
    "        \n",
    "        # Define action space (scalar signifying how many degrees to move stepper by)\n",
    "        self.action_space = gym.spaces.Box(\n",
    "            low=STP_MOVE_MIN,\n",
    "            high=STP_MOVE_MAX,\n",
    "            shape=(1, 1),\n",
    "            dtype=np.float32\n",
    "        )\n",
    "        \n",
    "        # Define observation space \n",
    "        # [encoder angle, encoder angular velocity, stepper angle, stepper angular velocity]\n",
    "        self.observation_space = gym.spaces.Box(\n",
    "            low=np.array([-180, -np.inf, STP_ANGLE_MIN, -np.inf]),\n",
    "            high=np.array([180, np.inf, STP_ANGLE_MAX, np.inf]),\n",
    "            dtype=np.float32\n",
    "        )\n",
    "        \n",
    "        # Record time from microcontroller and own elapsed time\n",
    "        self.timestamp = 0\n",
    "        self.timeout = env_timeout\n",
    "        self.start_time = time.time()\n",
    "        \n",
    "        # Record previous encoder and stepper angles (to calculate velocities)\n",
    "        self.angle_stp_prev = 0\n",
    "        self.angle_enc_prev = 0\n",
    "        \n",
    "        # Set current stepper position as \"home\" and optionally set blocking\n",
    "        self.ctrl.step(CMD_SET_STEP_MODE, [stp_mode])\n",
    "        self.ctrl.step(CMD_SET_HOME, [0])\n",
    "        if stp_blocking:\n",
    "            self.ctrl.step(CMD_SET_BLOCK_MODE, [1])\n",
    "        else:\n",
    "            self.ctrl.step(CMD_SET_BLOCK_MODE, [0])\n",
    "    \n",
    "    def __del__(self):\n",
    "        \"\"\"\n",
    "        Destructor: make sure to close the serial port\n",
    "        \"\"\"\n",
    "        self.close()\n",
    "    \n",
    "    def step(self, action: np.ndarray):\n",
    "        \"\"\"\n",
    "        What happens when you tell the stepper motor to do something then record the observation.\n",
    "        \"\"\"\n",
    "        \n",
    "        # Initialize return values\n",
    "        obs = np.array([0.0, 0.0, 0.0, 0.0], dtype=np.float32)\n",
    "        reward = 0.0\n",
    "        info = {\"error\": False, \"dtime\": 0.0, \"elapsed_time\": 0.0}\n",
    "        terminated = False\n",
    "        truncated = False\n",
    "        \n",
    "        # Box is 2D NumPy array, action must be sent out as 1D list [...]\n",
    "        action_list = action.flatten().tolist()\n",
    "        \n",
    "        # Move the stepper motor and wait for a response\n",
    "        resp = self.ctrl.step(CMD_MOVE_BY, action_list)\n",
    "        if resp:\n",
    "            \n",
    "            # Extract information from controller response\n",
    "            status, timestamp, terminated, angles = resp\n",
    "            \n",
    "            # Compute lapsed time (in seconds) from previous observation (milliseconds)\n",
    "            info[\"dtime\"] = (timestamp - self.timestamp) / 1000.0\n",
    "            self.timestamp = timestamp\n",
    "            \n",
    "            # Offset encoder angle so that 0 deg is up\n",
    "            angles[0] -= ENC_OFFSET\n",
    "            \n",
    "            # Calculate velocities\n",
    "            dtheta = calc_angular_velocity(angles[0], self.angle_enc_prev, info['dtime'])\n",
    "            dphi = calc_angular_velocity(angles[1], self.angle_stp_prev, info['dtime'])\n",
    "            self.angle_enc_prev = angles[0]\n",
    "            self.angle_stp_prev = angles[1]\n",
    "            \n",
    "            # Construct observation (normalized)\n",
    "            obs[0] = angles[0] / ENC_ANGLE_NORM\n",
    "            obs[1] = dtheta / ENC_ANGLE_NORM\n",
    "            obs[2] = angles[1] / STP_ANGLE_NORM\n",
    "            obs[3] = dphi / STP_ANGLE_NORM\n",
    "                    \n",
    "            # Calculate reward if stepper is not out of bounds\n",
    "            if (angles[1] >= STP_ANGLE_MIN) and (angles[1] <= STP_ANGLE_MAX):\n",
    "                reward = -1 * (K_T * obs[0] ** 2 + \n",
    "                               K_DT * obs[1] ** 2 + \n",
    "                               K_P * obs[2] ** 2 +\n",
    "                               K_DP * obs[3] ** 2)\n",
    "            \n",
    "            # Stepper motor is out of bounds--terminate episode\n",
    "            else:\n",
    "                reward = REWARD_OOB\n",
    "                terminated = True\n",
    "        \n",
    "        # Something is wrong with communication\n",
    "        else:\n",
    "            print(\"ERROR: Could not communicate with Arduino\")\n",
    "            info[\"error\"] = True\n",
    "            terminated = True\n",
    "        \n",
    "        # Calculate elapsed time\n",
    "        info[\"elapsed_time\"] = time.time() - self.start_time\n",
    "        \n",
    "        # Check if we've exceeded the time limit\n",
    "        if not terminated and self.timeout > 0.0 and info[\"elapsed_time\"] >= self.timeout:\n",
    "            truncated = True\n",
    "        \n",
    "        return obs, reward, terminated, truncated, info\n",
    "    \n",
    "    def reset(self, seed=None):\n",
    "        \"\"\"\n",
    "        Return the pendulum to the starting position\n",
    "        \"\"\"\n",
    "        \n",
    "        # Initialize return values\n",
    "        obs = np.array([0.0, 0.0, 0.0, 0.0], dtype=np.float32)\n",
    "        info = {\"error\": False, \"dtime\": 0, \"elapsed_time\": 0.0}\n",
    "        \n",
    "        # Reset timer\n",
    "        self.start_time = time.time()\n",
    "        \n",
    "        # Let the pendulum fall and return to the starting position\n",
    "        time.sleep(RESET_SETTLE_TIME)\n",
    "        resp = self.ctrl.step(CMD_MOVE_TO, [0.0])\n",
    "        if resp:\n",
    "            \n",
    "            # Extract information from controller response\n",
    "            status, timestamp, terminated, angles = resp\n",
    "            \n",
    "            # Compute lapsed time (in seconds) from previous observation (milliseconds)\n",
    "            info[\"dtime\"] = (timestamp - self.timestamp) / 1000.0\n",
    "            self.timestamp = timestamp\n",
    "            \n",
    "            # Offset encoder angle so that 0 deg is up\n",
    "            angles[0] -= ENC_OFFSET\n",
    "            \n",
    "            # Calculate velocities\n",
    "            dtheta = calc_angular_velocity(angles[0], self.angle_enc_prev, info['dtime'])\n",
    "            dphi = calc_angular_velocity(angles[1], self.angle_stp_prev, info['dtime'])\n",
    "            self.angle_enc_prev = angles[0]\n",
    "            self.angle_stp_prev = angles[1]\n",
    "            \n",
    "            # Construct observation (normalized)\n",
    "            obs[0] = angles[0] / ENC_ANGLE_NORM\n",
    "            obs[1] = dtheta / ENC_ANGLE_NORM\n",
    "            obs[2] = angles[1] / STP_ANGLE_NORM\n",
    "            obs[3] = dphi / STP_ANGLE_NORM\n",
    "            \n",
    "            # Let pendulum settle for a bit\n",
    "            time.sleep(RESET_SETTLE_TIME)\n",
    "            \n",
    "        # Something is wrong with communication\n",
    "        else:\n",
    "            print(\"ERROR: Could not communicate with Arduino\")\n",
    "            info[\"error\"] = True\n",
    "            \n",
    "        # Calculate elapsed time\n",
    "        info[\"elapsed_time\"] = time.time() - self.start_time\n",
    "        \n",
    "        return obs, info\n",
    "    \n",
    "    def close(self):\n",
    "        \"\"\"\n",
    "        Close connection to Arduino\n",
    "        \"\"\"\n",
    "        self.ctrl.close()"
   ]
  },
  {
   "cell_type": "markdown",
   "id": "ac966999-8595-4e98-8a34-60ad251ce69c",
   "metadata": {
    "tags": []
   },
   "source": [
    "## Test gym Environment\n",
    "\n",
    "Test the gym wrapper before training"
   ]
  },
  {
   "cell_type": "code",
   "execution_count": 75,
   "id": "79b6c823-05f7-4368-815d-353bd1acf23b",
   "metadata": {},
   "outputs": [],
   "source": [
    "# Create our environment\n",
    "try:\n",
    "    env.close()\n",
    "except:\n",
    "    pass\n",
    "env = Pendulum(\n",
    "        SERIAL_PORT,\n",
    "        BAUD_RATE,\n",
    "        ctrl_timeout=CTRL_TIMEOUT,\n",
    "        debug_level=DEBUG_LEVEL,\n",
    "        env_timeout=ENV_TIMEOUT, \n",
    "        stp_mode=STEP_MODE, \n",
    "        stp_blocking=False\n",
    ")"
   ]
  },
  {
   "cell_type": "code",
   "execution_count": 76,
   "id": "f607dd4c-2858-48d4-a115-97e98a943c4b",
   "metadata": {},
   "outputs": [
    {
     "name": "stdout",
     "output_type": "stream",
     "text": [
      "  Step   |             Observation              |  Reward  |   Done   | Info\n",
      " Reset   | -1.00, -0.00, 0.00, 0.00             | 0.0      |  False   | {'error': False, 'dtime': 504.447, 'elapsed_time': 4.026068687438965}\n",
      "   0     | -1.00, 0.00, 0.00, 0.00              | -5.00    |  False   | {'error': False, 'dtime': 2.024, 'elapsed_time': 4.044030666351318}\n",
      "   1     | -1.00, 0.00, 0.00, 0.00              | -5.00    |  False   | {'error': False, 'dtime': 1.026, 'elapsed_time': 5.067969083786011}\n",
      "   2     | -1.00, 0.00, 0.00, 0.00              | -5.00    |  False   | {'error': False, 'dtime': 1.017, 'elapsed_time': 6.086517572402954}\n",
      "   3     | -1.00, 0.00, 0.00, 0.00              | -5.00    |  False   | {'error': False, 'dtime': 1.027, 'elapsed_time': 7.11404824256897}\n",
      "   4     | -1.00, 0.00, 0.00, 0.00              | -5.00    |  False   | {'error': False, 'dtime': 1.026, 'elapsed_time': 8.132933855056763}\n",
      "   5     | -1.00, 0.00, 0.00, 0.00              | -5.00    |  False   | {'error': False, 'dtime': 1.012, 'elapsed_time': 9.14506483078003}\n",
      "   6     | -1.00, 0.00, 0.00, 0.00              | -5.00    |  False   | {'error': False, 'dtime': 1.023, 'elapsed_time': 10.174100160598755}\n",
      "   7     | -1.00, 0.00, 0.00, 0.00              | -5.00    |  False   | {'error': False, 'dtime': 1.029, 'elapsed_time': 11.202828168869019}\n",
      "   8     | -1.00, 0.00, 0.00, 0.00              | -5.00    |  False   | {'error': False, 'dtime': 1.028, 'elapsed_time': 12.229889869689941}\n",
      "   9     | -1.00, 0.00, 0.00, 0.00              | -5.00    |  False   | {'error': False, 'dtime': 1.027, 'elapsed_time': 13.252933025360107}\n"
     ]
    }
   ],
   "source": [
    "# Test encoder\n",
    "obs, info = env.reset()\n",
    "obs_str = \", \".join([f\"{val:.2f}\" for val in obs])\n",
    "if info[\"error\"]:\n",
    "    print(\"Stopping\")\n",
    "else:\n",
    "    print(f\"{'Step': ^8} | {'Observation': ^36} | {'Reward': ^8} | {'Done': ^8} | Info\")\n",
    "    print(f\"{'Reset': ^8} | {obs_str: <36} | {0.0: <8} | {str(False): ^8} | {info}\")\n",
    "    for i in range(10):\n",
    "        obs, reward, terminated, truncated, info = env.step(np.array([[0]]))\n",
    "        obs_str = \", \".join([f\"{val:.2f}\" for val in obs])\n",
    "        print(f\"{i: ^8} | {obs_str: <36} | {reward: <8.2f} | {str(terminated or truncated): ^8} | {info}\")\n",
    "        if info[\"error\"]:\n",
    "            print(\"Stopping\")\n",
    "            break\n",
    "        if terminated or truncated:\n",
    "            print(\"Episode done\")\n",
    "            break\n",
    "        time.sleep(1.0)"
   ]
  },
  {
   "cell_type": "code",
   "execution_count": 70,
   "id": "656213f8-6fa8-4a41-828a-0761a601b384",
   "metadata": {},
   "outputs": [
    {
     "name": "stdout",
     "output_type": "stream",
     "text": [
      "  Step   |             Observation              |  Reward  |   Done   | Info\n",
      " Reset   | -1.00, 0.00, 0.00, 0.00              | 0.0      |  False   | {'error': False, 'dtime': 22.324, 'elapsed_time': 4.031323432922363}\n",
      "   0     | -1.00, 0.00, 0.00, 0.00              | -5.00    |  False   | {'error': False, 'dtime': 2.026, 'elapsed_time': 4.047344446182251}\n",
      "   1     | -0.98, 0.16, -0.03, -0.25            | -4.81    |  False   | {'error': False, 'dtime': 0.124, 'elapsed_time': 4.167266368865967}\n",
      "   2     | -0.94, 0.35, -0.11, -0.60            | -4.43    |  False   | {'error': False, 'dtime': 0.124, 'elapsed_time': 4.29517126083374}\n",
      "   3     | -0.93, 0.05, -0.19, -0.65            | -4.42    |  False   | {'error': False, 'dtime': 0.126, 'elapsed_time': 4.421221494674683}\n",
      "   4     | -0.96, -0.27, -0.27, -0.64           | -4.81    |  False   | {'error': False, 'dtime': 0.124, 'elapsed_time': 4.545549154281616}\n",
      "   5     | 0.99, -0.42, -0.35, -0.65            | -5.12    |  False   | {'error': False, 'dtime': 0.124, 'elapsed_time': 4.669899940490723}\n",
      "   6     | 0.95, -0.24, -0.43, -0.65            | -4.95    |  False   | {'error': False, 'dtime': 0.126, 'elapsed_time': 4.795877695083618}\n",
      "   7     | 0.96, 0.07, -0.51, -0.64             | -5.18    |  False   | {'error': False, 'dtime': 0.125, 'elapsed_time': 4.921147584915161}\n",
      "   8     | -1.00, 0.32, -0.59, -0.64            | -5.69    |  False   | {'error': False, 'dtime': 0.125, 'elapsed_time': 5.040417194366455}\n",
      "   9     | -0.95, 0.38, -0.67, -0.68            | -5.45    |  False   | {'error': False, 'dtime': 0.124, 'elapsed_time': 5.166645050048828}\n"
     ]
    }
   ],
   "source": [
    "# Try running the environment for a few steps (stepper should move some)\n",
    "obs, info = env.reset()\n",
    "obs_str = \", \".join([f\"{val:.2f}\" for val in obs])\n",
    "if info[\"error\"]:\n",
    "    print(\"Stopping\")\n",
    "else:\n",
    "    print(f\"{'Step': ^8} | {'Observation': ^36} | {'Reward': ^8} | {'Done': ^8} | Info\")\n",
    "    print(f\"{'Reset': ^8} | {obs_str: <36} | {0.0: <8} | {str(False): ^8} | {info}\")\n",
    "    for i in range(10):\n",
    "        obs, reward, terminated, truncated, info = env.step(np.array([[-25]]))\n",
    "        obs_str = \", \".join([f\"{val:.2f}\" for val in obs])\n",
    "        print(f\"{i: ^8} | {obs_str: <36} | {reward: <8.2f} | {str(terminated or truncated): ^8} | {info}\")\n",
    "        if info[\"error\"]:\n",
    "            print(\"Stopping\")\n",
    "            break\n",
    "        if terminated or truncated:\n",
    "            print(\"Episode done\")\n",
    "            break\n",
    "        time.sleep(0.1)"
   ]
  },
  {
   "cell_type": "code",
   "execution_count": 71,
   "id": "e3b1cc85-0cc9-496e-93ba-4f670de7c4b7",
   "metadata": {},
   "outputs": [
    {
     "name": "stdout",
     "output_type": "stream",
     "text": [
      "obs: [-0.99333334 -0.0026336  -0.81       -0.00835663], info: {'error': False, 'dtime': 16.454, 'elapsed_time': 4.036940574645996}\n"
     ]
    }
   ],
   "source": [
    "# Test timeout (stepper will reset and vibrate for a while)\n",
    "obs, info = env.reset()\n",
    "print(f\"obs: {obs}, info: {info}\")\n",
    "action = 2\n",
    "if not info[\"error\"]:\n",
    "    for i in range(1000):\n",
    "        action = -2 if action == 2 else 2\n",
    "        obs, reward, terminated, truncated, info = env.step(np.array([[action]]))\n",
    "        # print(f\"{i: ^8} | {obs_str: <36} | {reward: <8.2f} | {str(terminated or truncated): ^8} | {info}\")\n",
    "        if terminated or truncated:\n",
    "            print(\"Episode done\")\n",
    "            break"
   ]
  },
  {
   "cell_type": "code",
   "execution_count": 72,
   "id": "75c8710f-6a1b-4e54-ab1c-82cbc4d73080",
   "metadata": {},
   "outputs": [],
   "source": [
    "# Final environment check to make sure it works with Stable-Baselines3 (no errors means it worked)\n",
    "env_checker.check_env(env)"
   ]
  },
  {
   "cell_type": "code",
   "execution_count": 77,
   "id": "8f593d48-dacf-424b-ae3c-531b2d5914c6",
   "metadata": {},
   "outputs": [],
   "source": [
    "# Close the environment\n",
    "env.close()"
   ]
  },
  {
   "cell_type": "markdown",
   "id": "766a13f9-7fd8-41b8-a132-7ba226d43345",
   "metadata": {
    "tags": []
   },
   "source": [
    "## Define Test"
   ]
  },
  {
   "cell_type": "code",
   "execution_count": 78,
   "id": "74f6d7db-4f12-400a-b61e-b726e8f028a7",
   "metadata": {},
   "outputs": [],
   "source": [
    "# Function that tests the model in the given environment\n",
    "def test_agent(env, model, max_steps=0):\n",
    "\n",
    "    # Reset environment\n",
    "    obs, info = env.reset()\n",
    "    ep_len = 0\n",
    "    ep_rew = 0\n",
    "    avg_step_time = 0.0\n",
    "\n",
    "    # Run episode until complete\n",
    "    while True:\n",
    "\n",
    "        # Provide observation to policy to predict the next action\n",
    "        timestamp = time.time()\n",
    "        action, _ = model.predict(obs)\n",
    "\n",
    "        # Perform action, update total reward\n",
    "        obs, reward, terminated, truncated, info = env.step(action)\n",
    "        avg_step_time += time.time() - timestamp\n",
    "        ep_rew += reward\n",
    "\n",
    "        # Increase step counter\n",
    "        ep_len += 1\n",
    "        if (max_steps > 0) and (ep_len >= max_steps):\n",
    "            break\n",
    "\n",
    "        # Check to see if episode has ended\n",
    "        if terminated or truncated:\n",
    "            break\n",
    "        \n",
    "    # Calculate average step time\n",
    "    avg_step_time /= ep_len\n",
    "    \n",
    "    return ep_len, ep_rew, avg_step_time"
   ]
  },
  {
   "cell_type": "markdown",
   "id": "3de81902-9bcc-451d-99fd-7db9febdd73a",
   "metadata": {
    "tags": []
   },
   "source": [
    "## Testing and logging callbacks\n",
    "\n",
    "Construct custom callbacks for Stable-Baselines3 to test our agent and log metrics to Weights & Biases."
   ]
  },
  {
   "cell_type": "code",
   "execution_count": 79,
   "id": "1f3870bb-7d23-4d12-a171-4f284c3335e8",
   "metadata": {},
   "outputs": [],
   "source": [
    "# Evaluate agent on a number of tests\n",
    "def evaluate_agent(env, model, steps_per_test, num_tests):\n",
    "    \n",
    "    # Initialize metrics\n",
    "    avg_ep_len = 0\n",
    "    avg_ep_rew = 0\n",
    "    avg_step_time = 0.0\n",
    "    \n",
    "    # Test the agent a number of times\n",
    "    for ep in range(num_tests):\n",
    "        ep_len, ep_rew, step_time = test_agent(env, model, max_steps=steps_per_test)\n",
    "        avg_ep_len += ep_len\n",
    "        avg_ep_rew += ep_rew\n",
    "        avg_step_time += step_time\n",
    "        \n",
    "    # Compute metrics\n",
    "    avg_ep_len /= num_tests\n",
    "    avg_ep_rew /= num_tests\n",
    "    avg_step_time /= num_tests\n",
    "    \n",
    "    return avg_ep_len, avg_ep_rew, avg_step_time"
   ]
  },
  {
   "cell_type": "code",
   "execution_count": 80,
   "id": "7e467390-4f21-48cd-a5e3-2862ddf25cc6",
   "metadata": {},
   "outputs": [],
   "source": [
    "class EvalAndSaveCallback(BaseCallback):\n",
    "    \"\"\"\n",
    "    Evaluate and save the model every ``check_freq`` steps\n",
    "    \n",
    "    More info: https://stable-baselines3.readthedocs.io/en/master/guide/callbacks.html\n",
    "    \"\"\"\n",
    "    \n",
    "    # Constructor\n",
    "    def __init__(\n",
    "        self, \n",
    "        check_freq, \n",
    "        save_dir,\n",
    "        model_name=\"model\",\n",
    "        replay_buffer_name=None,\n",
    "        steps_per_test=0, \n",
    "        num_tests=10,\n",
    "        step_offset=0,\n",
    "        verbose=1,\n",
    "    ):\n",
    "        super(EvalAndSaveCallback, self).__init__(verbose)\n",
    "        self.check_freq = check_freq\n",
    "        self.save_dir = save_dir\n",
    "        self.model_name = model_name\n",
    "        self.replay_buffer_name = replay_buffer_name\n",
    "        self.num_tests = num_tests\n",
    "        self.steps_per_test = steps_per_test\n",
    "        self.step_offset = step_offset\n",
    "        self.verbose = verbose\n",
    "        \n",
    "    # Create directory for saving the models\n",
    "    def _init_callback(self):\n",
    "        if self.save_dir is not None:\n",
    "            os.makedirs(self.save_dir, exist_ok=True)\n",
    "            \n",
    "    # Save and evaluate model at a set interval\n",
    "    def _on_step(self):\n",
    "        if self.n_calls % self.check_freq == 0:\n",
    "            \n",
    "            # Set actual number of steps (including offset)\n",
    "            actual_steps = self.step_offset + self.n_calls\n",
    "            \n",
    "            # Save model\n",
    "            model_path = os.path.join(self.save_dir, f\"{self.model_name}_{str(actual_steps)}\")\n",
    "            self.model.save(model_path)\n",
    "            \n",
    "            # Save replay buffer\n",
    "            if self.replay_buffer_name != None:\n",
    "                replay_buffer_path = os.path.join(self.save_dir, f\"{self.replay_buffer_name}\")\n",
    "                self.model.save_replay_buffer(replay_buffer_path)\n",
    "            \n",
    "            # Evaluate the agent\n",
    "            avg_ep_len, avg_ep_rew, avg_step_time = evaluate_agent(\n",
    "                env, \n",
    "                self.model, \n",
    "                self.steps_per_test, \n",
    "                self.num_tests\n",
    "            )\n",
    "            if self.verbose:\n",
    "                print(f\"{str(actual_steps)} steps | average test length: {avg_ep_len}, average test reward: {avg_ep_rew}\")\n",
    "                \n",
    "            # Log metrics to WandB\n",
    "            log_dict = {\n",
    "                'avg_ep_len': avg_ep_len,\n",
    "                'avg_ep_rew': avg_ep_rew,\n",
    "                'avg_step_time': avg_step_time,\n",
    "            }\n",
    "            wandb.log(log_dict, commit=True, step=actual_steps)\n",
    "            \n",
    "        return True"
   ]
  },
  {
   "cell_type": "code",
   "execution_count": 81,
   "id": "9ef5e1e7-bc63-4288-9a2e-f165b78a17fa",
   "metadata": {},
   "outputs": [],
   "source": [
    "class WandBWriter(KVWriter):\n",
    "    \"\"\"\n",
    "    Log metrics to Weights & Biases when called by .learn()\n",
    "    \n",
    "    More info: https://stable-baselines3.readthedocs.io/en/master/_modules/stable_baselines3/common/logger.html#KVWriter\n",
    "    \"\"\"\n",
    "    \n",
    "    # Initialize run\n",
    "    def __init__(self, run, verbose=1):\n",
    "        super().__init__()\n",
    "        self.run = run\n",
    "        self.verbose = verbose\n",
    "\n",
    "    # Write metrics to W&B project\n",
    "    def write(self, \n",
    "              key_values: Dict[str, Any], \n",
    "              key_excluded: Dict[str, Union[str, Tuple[str, ...]]], \n",
    "              step: int = 0) -> None:\n",
    "        log_dict = {}\n",
    "        \n",
    "        # Go through each key/value pairs\n",
    "        for (key, value), (_, excluded) in zip(\n",
    "            sorted(key_values.items()), sorted(key_excluded.items())):\n",
    "            \n",
    "            if self.verbose >= 2:\n",
    "                print(f\"step={step} | {key} : {value} ({type(value)})\")\n",
    "            \n",
    "            # Skip excluded items\n",
    "            if excluded is not None and \"wandb\" in excluded:\n",
    "                continue\n",
    "                \n",
    "            # Log integers and floats\n",
    "            if isinstance(value, np.ScalarType):\n",
    "                if not isinstance(value, str):\n",
    "                    wandb.log(data={key: value}, step=step)\n",
    "                    log_dict[key] = value\n",
    "                \n",
    "        # Print to console\n",
    "        if self.verbose >= 1:\n",
    "            print(f\"Log for steps={step}\")\n",
    "            print(f\"--------------\")\n",
    "            for (key, value) in sorted(log_dict.items()):\n",
    "                print(f\"  {key}: {value}\")\n",
    "            print()\n",
    "                \n",
    "    # Close the W&B run\n",
    "    def close(self) -> None:\n",
    "        self.run.finish()"
   ]
  },
  {
   "cell_type": "markdown",
   "id": "6cdecb53-cf01-41b5-ad9e-224806c4ac7d",
   "metadata": {
    "tags": []
   },
   "source": [
    "## Define train and test function for a single trial\n",
    "\n",
    "A single \"trial\" is fully training and then testing the agent using one set of hyperparameters."
   ]
  },
  {
   "cell_type": "code",
   "execution_count": 82,
   "id": "aebdc5ce-4123-448c-a675-d067932e24a6",
   "metadata": {},
   "outputs": [],
   "source": [
    "def do_trial(settings, hparams):\n",
    "    \"\"\"\n",
    "    Training loop used to evaluate a set of hyperparameters\n",
    "    \"\"\"\n",
    "    \n",
    "    # Set random seed\n",
    "    set_random_seeds(settings['seed'])\n",
    "    \n",
    "    # Create new W&B run\n",
    "    config = {}\n",
    "    dt = datetime.datetime.now(datetime.timezone.utc)\n",
    "    dt = dt.replace(microsecond=0, tzinfo=None)\n",
    "    run = wandb.init(\n",
    "        project=settings['wandb_project'], \n",
    "        name=str(dt), \n",
    "        config=config,\n",
    "        settings=wandb.Settings(silent=(not settings['verbose_wandb']))\n",
    "    )\n",
    "\n",
    "    # Print run info\n",
    "    if settings['verbose_trial'] > 0:\n",
    "        print(f\"WandB run ID: {run.id}\")\n",
    "        print(f\"WandB run name: {run.name}\")\n",
    "    \n",
    "    # Log hyperparameters to W&B\n",
    "    wandb.config.update(hparams)\n",
    "    \n",
    "    # Set custom logger with our custom writer\n",
    "    wandb_writer = WandBWriter(run, verbose=settings['verbose_log'])\n",
    "    loggers = Logger(\n",
    "        folder=None,\n",
    "        output_formats=[wandb_writer]\n",
    "    )\n",
    "    \n",
    "    # Calculate derived hyperparameters\n",
    "    n_steps = 2 ** hparams['steps_per_update_pow2']\n",
    "    minibatch_size = 2 ** hparams['minibatch_size_pow2']\n",
    "    layer_1 = 2 ** hparams['layer_1_pow2']\n",
    "    layer_2 = 2 ** hparams['layer_2_pow2']\n",
    "\n",
    "    # Create new agent\n",
    "    # PPO docs: https://stable-baselines3.readthedocs.io/en/master/modules/ppo.html\n",
    "    # Policy networks: https://stable-baselines.readthedocs.io/en/master/modules/policies.html\n",
    "    model = sb3.PPO(\n",
    "        'MlpPolicy',\n",
    "        env,\n",
    "        learning_rate=hparams['learning_rate'], # Learning rate of neural network (default: 0.0003)\n",
    "        n_steps=n_steps,                        # Number of steps per update (default: 2048)\n",
    "        batch_size=minibatch_size,              # Minibatch size for NN update (default: 64)\n",
    "        gamma=hparams['gamma'],                 # Discount factor (default: 0.99)\n",
    "        gae_lambda=hparams['gae_lambda'],       # Trade-off of bias vs. variance for GAE (default: 0.95)\n",
    "        clip_range=hparams['clip_range'],       # Clipping parameter (default: 0.2)\n",
    "        ent_coef=hparams['entropy_coef'],       # Entropy, how much to explore (default: 0.0)\n",
    "        vf_coef=hparams['vf_coef'],             # Value function coefficient for the loss calculation (default: 0.5)\n",
    "        max_grad_norm=hparams['max_grad_norm'], # Max value for gradient clipping (default: 0.5)\n",
    "        use_sde=hparams['use_sde'],             # Use generalized State Dependent Exploration (default: False)\n",
    "        sde_sample_freq=hparams['sde_freq'],    # Number of steps before sampling new noise matrix (default -1)\n",
    "        policy_kwargs={'net_arch': [layer_1, layer_2]}, # (default: [64, 64])\n",
    "        verbose=settings['verbose_train']       # Print training metrics (default: 0)\n",
    "    )\n",
    "    steps_to_complete = settings['total_steps']\n",
    "        \n",
    "    # Set up checkpoint callback\n",
    "    checkpoint_callback = EvalAndSaveCallback(\n",
    "        check_freq=settings['checkpoint_freq'], \n",
    "        save_dir=settings['save_dir'],\n",
    "        model_name=settings['model_name'],\n",
    "        replay_buffer_name=settings['replay_buffer_name'],\n",
    "        steps_per_test=settings['steps_per_test'],\n",
    "        num_tests=settings['tests_per_check'],\n",
    "        step_offset=(settings['total_steps'] - steps_to_complete),\n",
    "        verbose=settings['verbose_test'],\n",
    "    )\n",
    "    \n",
    "    # Choo choo train\n",
    "    model.learn(total_timesteps=steps_to_complete, \n",
    "                callback=[checkpoint_callback])\n",
    "    \n",
    "    # Get dataframe of run metrics\n",
    "    history = wandb.Api().run(f\"{run.project}/{run.id}\").history()\n",
    "\n",
    "    # Get index of evaluation with maximum reward\n",
    "    max_idx = np.argmax(history.loc[:, 'avg_ep_rew'].values)\n",
    "\n",
    "    # Find number of steps required to produce that maximum reward\n",
    "    max_rew_steps = history['_step'][max_idx]\n",
    "    if settings['verbose_trial'] > 0:\n",
    "        print(f\"Steps with max reward: {max_rew_steps}\")\n",
    "    \n",
    "    # Load model with maximum reward from previous run\n",
    "    model_path = os.path.join(settings['save_dir'], f\"{settings['model_name']}_{str(max_rew_steps)}.zip\")\n",
    "    model = sb3.PPO.load(model_path, env)\n",
    "    \n",
    "    # Evaluate the agent\n",
    "    avg_ep_len, avg_ep_rew, avg_step_time = evaluate_agent(\n",
    "        env, \n",
    "        model, \n",
    "        settings['steps_per_test'],\n",
    "        settings['tests_per_check'],\n",
    "    )\n",
    "    \n",
    "    # Log final evaluation metrics to WandB run\n",
    "    wandb.run.summary['Average test episode length'] = avg_ep_len\n",
    "    wandb.run.summary['Average test episode reward'] = avg_ep_rew\n",
    "    wandb.run.summary['Average test step time'] = avg_step_time\n",
    "    \n",
    "    # Print final run metrics\n",
    "    if settings['verbose_trial'] > 0:\n",
    "        print(\"---\")\n",
    "        print(f\"Best model: {settings['model_name']}_{str(max_rew_steps)}.zip\")\n",
    "        print(f\"Average episode length: {avg_ep_len}\")\n",
    "        print(f\"Average episode reward: {avg_ep_rew}\")\n",
    "        print(f\"Average step time: {avg_step_time}\")\n",
    "                      \n",
    "    # Close W&B run\n",
    "    run.finish()\n",
    "    \n",
    "    return avg_ep_rew"
   ]
  },
  {
   "cell_type": "markdown",
   "id": "827a7822-6c9e-4fff-a03f-0304d787702d",
   "metadata": {},
   "source": [
    "## Perform trials"
   ]
  },
  {
   "cell_type": "code",
   "execution_count": 83,
   "id": "288b5de3-822d-4395-b1e8-2537680b0336",
   "metadata": {},
   "outputs": [],
   "source": [
    "# Project settings that do not change\n",
    "settings = {\n",
    "    'wandb_project': \"pendulum-esp32-hpo-1\",\n",
    "    'model_name': \"ppo-pendulum\",\n",
    "    'ax_experiment_name': \"ppo-pendulum-esp32-1\",\n",
    "    'ax_objective_name': \"avg_ep_rew\",\n",
    "    'replay_buffer_name': None,\n",
    "    'save_dir': \"checkpoints\",\n",
    "    'checkpoint_freq': 10_000,\n",
    "    'steps_per_test': 500,\n",
    "    'tests_per_check': 10,\n",
    "    'total_steps': 100_000,\n",
    "    'num_trials': 100,\n",
    "    'seed': 42,\n",
    "    'verbose_ax': False,\n",
    "    'verbose_wandb': False,\n",
    "    'verbose_train': 0,\n",
    "    'verbose_log': 0,\n",
    "    'verbose_test': 0,\n",
    "    'verbose_trial': 1,\n",
    "}"
   ]
  },
  {
   "cell_type": "code",
   "execution_count": 84,
   "id": "ed4bcd36-4d5a-489a-8a4c-86403a6a1e5e",
   "metadata": {},
   "outputs": [],
   "source": [
    "# Define hyperparameters we want to optimize\n",
    "# Ref: https://github.com/facebook/Ax/blob/6443cee30cbf8cec290200a7420a3db08e4b5445/ax/service/ax_client.py#L236\n",
    "# Example: https://github.com/facebook/Ax/blob/main/tutorials/tune_cnn_service.ipynb\n",
    "# Hyperparameters: https://stable-baselines3.readthedocs.io/en/master/modules/ppo.html#stable_baselines3.ppo.PPO\n",
    "hparams = [\n",
    "    {\n",
    "        'name': \"n_envs\",\n",
    "        'type': \"fixed\",\n",
    "        'value_type': \"int\",\n",
    "        'value': 1,\n",
    "    },\n",
    "    {\n",
    "        'name': \"learning_rate\",\n",
    "        'type': \"range\",\n",
    "        'value_type': \"float\",\n",
    "        'bounds': [0.0005, 0.007],\n",
    "        'log_scale': False,\n",
    "    },\n",
    "    {\n",
    "        'name': \"steps_per_update_pow2\",\n",
    "        'type': \"range\",\n",
    "        'value_type': \"int\",\n",
    "        'bounds': [6, 9], # Inclusive, 2**n between [64, 512]\n",
    "        'log_scale': False,\n",
    "        'is_ordered': False,\n",
    "    },\n",
    "    {\n",
    "        'name': \"minibatch_size_pow2\",\n",
    "        'type': \"range\",\n",
    "        'value_type': \"int\",\n",
    "        'bounds': [9, 12], # Inclusive, 2**n between [512, 4096]\n",
    "        'log_scale': False,\n",
    "        'is_ordered': False,\n",
    "    },\n",
    "    {\n",
    "        'name': \"gae_lambda\",\n",
    "        'type': \"range\",\n",
    "        'value_type': \"float\",\n",
    "        'bounds': [0.9, 0.99],\n",
    "        'log_scale': False,\n",
    "    },\n",
    "    {\n",
    "        'name': \"clip_range\",\n",
    "        'type': \"range\",\n",
    "        'value_type': \"float\",\n",
    "        'bounds': [0.1, 0.4],\n",
    "        'log_scale': False,\n",
    "    },\n",
    "    {\n",
    "        'name': \"gamma\",\n",
    "        'type': \"range\",\n",
    "        'value_type': \"float\",\n",
    "        'bounds': [0.92, 0.99],\n",
    "        'log_scale': False,\n",
    "    },\n",
    "    {\n",
    "        'name': \"entropy_coef\",\n",
    "        'value_type': \"float\",\n",
    "        'type': \"range\",\n",
    "        'bounds': [0.0, 0.01],\n",
    "        'log_scale': False,\n",
    "    },\n",
    "    {\n",
    "        'name': \"vf_coef\",\n",
    "        'type': \"range\",\n",
    "        'value_type': \"float\",\n",
    "        'bounds': [0.2, 0.7],\n",
    "        'log_scale': False,\n",
    "    },\n",
    "    {\n",
    "        'name': \"max_grad_norm\",\n",
    "        'type': \"range\",\n",
    "        'value_type': \"float\",\n",
    "        'bounds': [0.5, 5.0],\n",
    "        'log_scale': False,\n",
    "    },\n",
    "    {\n",
    "        'name': \"use_sde\",\n",
    "        'type': \"fixed\",\n",
    "        'value_type': \"bool\",\n",
    "        'value': True,\n",
    "    },\n",
    "    {\n",
    "        'name': \"sde_freq\",\n",
    "        'type': \"range\",\n",
    "        'value_type': \"int\",\n",
    "        'bounds': [2, 6],\n",
    "        'log_scale': False,\n",
    "    },\n",
    "    {\n",
    "        'name': \"layer_1_pow2\",\n",
    "        'type': \"fixed\",\n",
    "        'value_type': \"int\",\n",
    "        'value': 8, # 2**n (is 256)\n",
    "        'log_scale': False,\n",
    "        'is_ordered': False,\n",
    "    },\n",
    "    {\n",
    "        'name': \"layer_2_pow2\",\n",
    "        'type': \"fixed\",\n",
    "        'value_type': \"int\",\n",
    "        'value': 8, # 2**n (is 256)\n",
    "        'log_scale': False,\n",
    "        'is_ordered': False,\n",
    "    },\n",
    "]\n",
    "\n",
    "# Set parameter constraints\n",
    "# Example: https://github.com/facebook/Ax/issues/621\n",
    "parameter_constraints = [\n",
    "    \"minibatch_size_pow2 >= steps_per_update_pow2\" # `batch_size` should be a factor of `n_steps * n_envs`, assume n_envs=1\n",
    "]"
   ]
  },
  {
   "cell_type": "code",
   "execution_count": 85,
   "id": "af5b3fb4-2186-425e-8079-a54735dde9ab",
   "metadata": {},
   "outputs": [],
   "source": [
    "# Create our environment\n",
    "try:\n",
    "    env.close()\n",
    "except:\n",
    "    pass\n",
    "env = Pendulum(\n",
    "        SERIAL_PORT,\n",
    "        BAUD_RATE,\n",
    "        ctrl_timeout=CTRL_TIMEOUT,\n",
    "        debug_level=DEBUG_LEVEL,\n",
    "        env_timeout=ENV_TIMEOUT, \n",
    "        stp_mode=STEP_MODE, \n",
    "        stp_blocking=False\n",
    ")"
   ]
  },
  {
   "cell_type": "code",
   "execution_count": 86,
   "id": "362c011c-85ab-4460-a5cd-a2a687feb967",
   "metadata": {},
   "outputs": [],
   "source": [
    "# Cosntruct path to Ax experiment snapshot file\n",
    "ax_snapshot_path = os.path.join(settings['save_dir'], f\"{settings['ax_experiment_name']}.json\")"
   ]
  },
  {
   "cell_type": "code",
   "execution_count": 87,
   "id": "a8a7eb35-aa2f-47ff-bdbf-de1658632e60",
   "metadata": {},
   "outputs": [],
   "source": [
    "# DANGER! Uncomment to delete the experiment file to start over\n",
    "\n",
    "# os.remove(ax_snapshot_path)"
   ]
  },
  {
   "cell_type": "code",
   "execution_count": 88,
   "id": "70621040-a54e-4e8b-ba5b-89f30be1730f",
   "metadata": {},
   "outputs": [
    {
     "name": "stderr",
     "output_type": "stream",
     "text": [
      "[WARNING 10-02 15:02:22] ax.service.ax_client: Random seed set to 42. Note that this setting only affects the Sobol quasi-random generator and BoTorch-powered Bayesian optimization models. For the latter models, setting random seed to the same number for two optimizations will make the generated trials similar, but not exactly the same, and over time the trials will diverge more.\n",
      "[INFO 10-02 15:02:22] ax.service.utils.instantiation: Created search space: SearchSpace(parameters=[FixedParameter(name='n_envs', parameter_type=INT, value=1), RangeParameter(name='learning_rate', parameter_type=FLOAT, range=[0.0005, 0.007]), RangeParameter(name='steps_per_update_pow2', parameter_type=INT, range=[6, 9]), RangeParameter(name='minibatch_size_pow2', parameter_type=INT, range=[9, 12]), RangeParameter(name='gae_lambda', parameter_type=FLOAT, range=[0.9, 0.99]), RangeParameter(name='clip_range', parameter_type=FLOAT, range=[0.1, 0.4]), RangeParameter(name='gamma', parameter_type=FLOAT, range=[0.92, 0.99]), RangeParameter(name='entropy_coef', parameter_type=FLOAT, range=[0.0, 0.01]), RangeParameter(name='vf_coef', parameter_type=FLOAT, range=[0.2, 0.7]), RangeParameter(name='max_grad_norm', parameter_type=FLOAT, range=[0.5, 5.0]), FixedParameter(name='use_sde', parameter_type=BOOL, value=True), RangeParameter(name='sde_freq', parameter_type=INT, range=[2, 6]), FixedParameter(name='layer_1_pow2', parameter_type=INT, value=8), FixedParameter(name='layer_2_pow2', parameter_type=INT, value=8)], parameter_constraints=[OrderConstraint(steps_per_update_pow2 <= minibatch_size_pow2)]).\n",
      "[INFO 10-02 15:02:22] ax.modelbridge.dispatch_utils: Using Models.GPEI since there are more ordered parameters than there are categories for the unordered categorical parameters.\n",
      "[INFO 10-02 15:02:22] ax.modelbridge.dispatch_utils: Calculating the number of remaining initialization trials based on num_initialization_trials=None max_initialization_trials=None num_tunable_parameters=10 num_trials=None use_batch_trials=False\n",
      "[INFO 10-02 15:02:22] ax.modelbridge.dispatch_utils: calculated num_initialization_trials=20\n",
      "[INFO 10-02 15:02:22] ax.modelbridge.dispatch_utils: num_completed_initialization_trials=0 num_remaining_initialization_trials=20\n",
      "[INFO 10-02 15:02:22] ax.modelbridge.dispatch_utils: Using Bayesian Optimization generation strategy: GenerationStrategy(name='Sobol+GPEI', steps=[Sobol for 20 trials, GPEI for subsequent trials]). Iterations after 20 will take longer to generate due to model-fitting.\n"
     ]
    },
    {
     "name": "stdout",
     "output_type": "stream",
     "text": [
      "Creating new experiment. Snapshot to be saved at checkpoints\\ppo-pendulum-esp32-1.json.\n"
     ]
    }
   ],
   "source": [
    "# Load experiment from snapshot if it exists, otherwise create a new one\n",
    "# Ref: https://ax.dev/versions/0.2.10/api/service.html#ax.service.ax_client.AxClient.create_experiment\n",
    "if os.path.exists(ax_snapshot_path):\n",
    "    print(f\"Loading experiment from snapshot: {ax_snapshot_path}\")\n",
    "    ax_client = AxClient.load_from_json_file(ax_snapshot_path)\n",
    "else:\n",
    "    print(f\"Creating new experiment. Snapshot to be saved at {ax_snapshot_path}.\")\n",
    "    ax_client = AxClient(\n",
    "        random_seed=settings['seed'],\n",
    "        verbose_logging=settings['verbose_ax'],\n",
    "    )\n",
    "    ax_client.create_experiment(\n",
    "        name=settings['ax_experiment_name'],\n",
    "        parameters=hparams,\n",
    "        objective_name=settings['ax_objective_name'],\n",
    "        minimize=False,\n",
    "        parameter_constraints=parameter_constraints,\n",
    "    )"
   ]
  },
  {
   "cell_type": "code",
   "execution_count": 89,
   "id": "e98af995-9535-44d0-b269-16d341f7b9ae",
   "metadata": {},
   "outputs": [],
   "source": [
    "# DANGER! Use this cell to mark trials as failed (e.g. if component breaks and WandB shows bad data for a given trial)\n",
    "# Check .json file with a site like https://jsonformatter.org/json-pretty-print\n",
    "\n",
    "# trial_index = 8\n",
    "# trial = ax_client.experiment.trials[trial_index]\n",
    "# trial.mark_failed(unsafe=True)\n",
    "# print(trial)\n",
    "# ax_client.save_to_json_file(ax_snapshot_path)"
   ]
  },
  {
   "cell_type": "code",
   "execution_count": null,
   "id": "b4a184b8-3f2b-48cf-9e07-c8f97dd23ff2",
   "metadata": {
    "tags": []
   },
   "outputs": [
    {
     "name": "stdout",
     "output_type": "stream",
     "text": [
      "--- Trial 0 ---\n"
     ]
    },
    {
     "data": {
      "text/html": [
       "Changes to your `wandb` environment variables will be ignored because your `wandb` session has already started. For more information on how to modify your settings with `wandb.init()` arguments, please refer to <a href='https://wandb.me/wandb-init' target=\"_blank\">the W&B docs</a>."
      ],
      "text/plain": [
       "<IPython.core.display.HTML object>"
      ]
     },
     "metadata": {},
     "output_type": "display_data"
    },
    {
     "name": "stdout",
     "output_type": "stream",
     "text": [
      "WandB run ID: qzcbrowc\n",
      "WandB run name: 2023-10-02 21:02:27\n"
     ]
    },
    {
     "name": "stderr",
     "output_type": "stream",
     "text": [
      "C:\\Users\\sgmustadio\\anaconda3\\envs\\pytorch-gpu\\lib\\site-packages\\stable_baselines3\\ppo\\ppo.py:148: UserWarning:\n",
      "\n",
      "You have specified a mini-batch size of 4096, but because the `RolloutBuffer` is of size `n_steps * n_envs = 64`, after every 0 untruncated mini-batches, there will be a truncated mini-batch of size 64\n",
      "We recommend using a `batch_size` that is a factor of `n_steps * n_envs`.\n",
      "Info: (n_steps=64 and n_envs=1)\n",
      "\n"
     ]
    }
   ],
   "source": [
    "# Choo choo! Perform trials to optimize hyperparameters\n",
    "while True:\n",
    "    \n",
    "    # Get next hyperparameters and end experiment if we've reached max trials\n",
    "    next_hparams, trial_index = ax_client.get_next_trial()\n",
    "    if trial_index >= settings['num_trials']:\n",
    "        break\n",
    "        \n",
    "    # Show that we're starting a new trial\n",
    "    if settings['verbose_trial'] > 0:\n",
    "        print(f\"--- Trial {trial_index} ---\")\n",
    "        \n",
    "    # Perform trial\n",
    "    avg_ep_rew = do_trial(settings, next_hparams)\n",
    "    ax_client.complete_trial(\n",
    "        trial_index=trial_index,\n",
    "        raw_data=avg_ep_rew,\n",
    "    )\n",
    "    \n",
    "    # Save experiment snapshot\n",
    "    ax_client.save_to_json_file(ax_snapshot_path)"
   ]
  },
  {
   "cell_type": "markdown",
   "id": "81a1dc72-fc2e-4b2f-8f55-7c83978d67d9",
   "metadata": {},
   "source": [
    "## Analyze Top Performing Trials"
   ]
  },
  {
   "cell_type": "code",
   "execution_count": null,
   "id": "d49a823a-2a29-4da1-9f07-8e8fdb99c6f7",
   "metadata": {},
   "outputs": [],
   "source": [
    "# Get runs in WandB project\n",
    "runs = wandb.Api().runs(settings['wandb_project'])"
   ]
  },
  {
   "cell_type": "code",
   "execution_count": null,
   "id": "6b848830-72fe-42aa-b860-0542ce4164f5",
   "metadata": {
    "tags": []
   },
   "outputs": [],
   "source": [
    "# Plot best average episode reward from each run over time\n",
    "avg_rews = []\n",
    "for i, run in enumerate(runs):\n",
    "    avg_rew = run.summary['Average test episode reward']\n",
    "    if isinstance(avg_rew, float):\n",
    "        avg_rews.append(avg_rew)\n",
    "avg_rews.reverse()\n",
    "plt.plot(avg_rews)"
   ]
  },
  {
   "cell_type": "code",
   "execution_count": null,
   "id": "859de2a9-09c9-4d5f-b22a-53598098d542",
   "metadata": {},
   "outputs": [],
   "source": [
    "# CSV file path\n",
    "csv_file_path = os.path.join(\".\", settings['wandb_project'] + \".csv\")\n",
    "\n",
    "# List summary names\n",
    "summary_names = [\n",
    "    \"Average test episode reward\",\n",
    "    \"Average test episode length\",\n",
    "    \"Average test step time\",\n",
    "]\n",
    "\n",
    "# Get hyperparameter names\n",
    "hparam_names = [hparam['name'] for hparam in hparams]\n",
    "\n",
    "print()\n",
    "\n",
    "# Create CSV with HPO trial results\n",
    "with open(csv_file_path, 'w', newline='') as file:\n",
    "    writer = csv.writer(file)\n",
    "    writer.writerow([\"name\"] + summary_names + hparam_names)\n",
    "    for run in runs:\n",
    "        row = [run.name]\n",
    "        for name in summary_names:\n",
    "            row.append(run.summary[name])\n",
    "        for name in hparam_names:\n",
    "            row.append(run.config[name])\n",
    "        writer.writerow(row)"
   ]
  },
  {
   "cell_type": "code",
   "execution_count": null,
   "id": "69dadaee-9b34-4fa4-bd19-71261541b871",
   "metadata": {},
   "outputs": [],
   "source": []
  }
 ],
 "metadata": {
  "kernelspec": {
   "display_name": "Python 3 (ipykernel)",
   "language": "python",
   "name": "python3"
  },
  "language_info": {
   "codemirror_mode": {
    "name": "ipython",
    "version": 3
   },
   "file_extension": ".py",
   "mimetype": "text/x-python",
   "name": "python",
   "nbconvert_exporter": "python",
   "pygments_lexer": "ipython3",
   "version": "3.10.10"
  }
 },
 "nbformat": 4,
 "nbformat_minor": 5
}
