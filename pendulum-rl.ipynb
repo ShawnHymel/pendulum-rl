{
 "cells": [
  {
   "cell_type": "markdown",
   "id": "4561acc1-bea2-4e8b-8342-e1de5391f578",
   "metadata": {},
   "source": [
    "TODO:\n",
    " * Math is wrong when moving negative angles (-90 gives 111 deg? WTF?)\n",
    " * Define rest of reset()\n",
    " * Define rest of step()\n",
    " * Create reward function (for reset() and step())\n",
    " * Test environment\n",
    " * Set up experiments (WandB?)\n",
    " * Train!"
   ]
  },
  {
   "cell_type": "code",
   "execution_count": null,
   "id": "37363014-d5bd-4d0b-8093-ad182644070c",
   "metadata": {},
   "outputs": [],
   "source": [
    "# !python -m pip install gymnasium==0.28.1\n",
    "# !python -m pip install stable-baselines3[extra]==2.1.0"
   ]
  },
  {
   "cell_type": "code",
   "execution_count": 1,
   "id": "6601a351-afc4-4ad6-8119-335dce1392cb",
   "metadata": {},
   "outputs": [
    {
     "name": "stdout",
     "output_type": "stream",
     "text": [
      "gym version: 0.28.1\n",
      "sb3 version: 2.1.0\n"
     ]
    }
   ],
   "source": [
    "import time\n",
    "\n",
    "import gymnasium as gym\n",
    "import stable_baselines3 as sb3\n",
    "import matplotlib.pyplot as plt\n",
    "import numpy as np\n",
    "from control_comms import ControlComms, StatusCode, DebugLevel\n",
    "\n",
    "# Check versions\n",
    "print(f\"gym version: {gym.__version__}\")\n",
    "print(f\"sb3 version: {sb3.__version__}\")"
   ]
  },
  {
   "cell_type": "code",
   "execution_count": 2,
   "id": "5512c5e3-f346-4866-be07-c9f275fc1b7e",
   "metadata": {},
   "outputs": [],
   "source": [
    "# Communication settings\n",
    "SERIAL_PORT = \"COM6\"    # Check your devices\n",
    "BAUD_RATE = 500000      # Must match what's in the Arduino code!\n",
    "CTRL_TIMEOUT = 1.0      # Seconds\n",
    "DEBUG_LEVEL = DebugLevel.DEBUG_ERROR\n",
    "\n",
    "# Reinforcement learning settings\n",
    "STP_MOVE_MIN = -10.0\n",
    "STP_MOVE_MAX = 10.0\n",
    "STP_ANGLE_MIN = -360.0\n",
    "STP_ANGLE_MAX = 360.0\n",
    "ENV_TIMEOUT = 10.0"
   ]
  },
  {
   "cell_type": "code",
   "execution_count": 3,
   "id": "631b6b53-ca9c-41c4-858c-581fcfbbe524",
   "metadata": {},
   "outputs": [],
   "source": [
    "# Communication constants\n",
    "CMD_SET_HOME = 0        # Set current stepper position as home (0 deg)\n",
    "CMD_MOVE_TO = 1         # Move stepper to a particular position (deg)\n",
    "CMD_MOVE_BY = 2         # Move stepper by a given amount (deg)\n",
    "CMD_SET_STEP_MODE = 3   # Set step mode\n",
    "CMD_SET_BLOCK_MODE = 4  # Set blocking mode\n",
    "CMD_NOP = 5             # Take no action, just receive observation\n",
    "STEP_MODE_1 = 0         # 1 division per step\n",
    "STEP_MODE_2 = 1         # 2 divisions per step\n",
    "STEP_MODE_4 = 2         # 4 divisions per step\n",
    "STEP_MODE_8 = 3         # 8 divisions per step\n",
    "STEP_MODE_16 = 4        # 16 divisions per step\n",
    "STATUS_OK = 0           # Stepper idle\n",
    "STATUS_STP_MOVING = 1   # Stepper is currently moving\n",
    "\n",
    "# Set to desired step mode\n",
    "STEP_MODE = STEP_MODE_8"
   ]
  },
  {
   "cell_type": "code",
   "execution_count": 4,
   "id": "316bc585-a495-4ad3-ae94-6b0930a38bed",
   "metadata": {},
   "outputs": [],
   "source": [
    "# Close connection to Arduino board (if open)\n",
    "try:\n",
    "    controller.close()\n",
    "except:\n",
    "    pass"
   ]
  },
  {
   "cell_type": "code",
   "execution_count": 5,
   "id": "bd6f5fef-12a0-405f-972a-fc6eb40b2ec2",
   "metadata": {},
   "outputs": [
    {
     "name": "stdout",
     "output_type": "stream",
     "text": [
      "CTRL TEST: b'{\"status\":0,\"timestamp\":222285,\"terminated\":false,\"observation\":[0.00,0.00]}\\r\\n'\n",
      "CTRL TEST: b'{\"status\":0,\"timestamp\":222289,\"terminated\":false,\"observation\":[0.00,0.00]}\\r\\n'\n"
     ]
    },
    {
     "data": {
      "text/plain": [
       "(0, 222289, False, [0.0, 0.0])"
      ]
     },
     "execution_count": 5,
     "metadata": {},
     "output_type": "execute_result"
    }
   ],
   "source": [
    "# Connect to Arduino board\n",
    "controller = ControlComms(timeout=CTRL_TIMEOUT, debug_level=DEBUG_LEVEL)\n",
    "ret = controller.connect(SERIAL_PORT, BAUD_RATE)\n",
    "if ret is not StatusCode.OK:\n",
    "    print(\"ERROR: Could not connect to board\")\n",
    "    \n",
    "# Set stepper mode and current position as \"home\"\n",
    "controller.step(CMD_SET_STEP_MODE, [STEP_MODE_8])\n",
    "controller.step(CMD_SET_HOME, [0])"
   ]
  },
  {
   "cell_type": "code",
   "execution_count": 46,
   "id": "3a2b2bf0-8ad2-4af6-901c-a9efc7d10549",
   "metadata": {},
   "outputs": [
    {
     "name": "stdout",
     "output_type": "stream",
     "text": [
      "CTRL TEST: b'{\"status\":0,\"timestamp\":523794,\"terminated\":false,\"observation\":[4.80,0.00]}\\r\\n'\n"
     ]
    },
    {
     "data": {
      "text/plain": [
       "(0, 523794, False, [4.8, 0.0])"
      ]
     },
     "execution_count": 46,
     "metadata": {},
     "output_type": "execute_result"
    }
   ],
   "source": [
    "# TEST\n",
    "controller.step(CMD_MOVE_BY, [-90])"
   ]
  },
  {
   "cell_type": "code",
   "execution_count": 47,
   "id": "89b532ee-0039-4948-8545-d4a05eddbedb",
   "metadata": {},
   "outputs": [
    {
     "name": "stdout",
     "output_type": "stream",
     "text": [
      "CTRL TEST: b'{\"status\":0,\"timestamp\":526005,\"terminated\":false,\"observation\":[323.40,111.60]}\\r\\n'\n"
     ]
    },
    {
     "data": {
      "text/plain": [
       "(0, 526005, False, [323.4, 111.6])"
      ]
     },
     "execution_count": 47,
     "metadata": {},
     "output_type": "execute_result"
    }
   ],
   "source": [
    "controller.step(CMD_NOP, [0])"
   ]
  },
  {
   "cell_type": "markdown",
   "id": "dd9cd180-65fe-40f2-88bf-e584bdbbd2cd",
   "metadata": {},
   "source": [
    "## Build gym Environment\n",
    "\n",
    "Subclass gymnasium.Env to create a custom environment. Learn more here:<br>\n",
    "https://gymnasium.farama.org/tutorials/gymnasium_basics/environment_creation/"
   ]
  },
  {
   "cell_type": "code",
   "execution_count": 8,
   "id": "32bcddaa-b899-4cab-9a7b-82bd214c3513",
   "metadata": {},
   "outputs": [],
   "source": [
    "class Pendulum(gym.Env):\n",
    "    \"\"\"\n",
    "    Subclass gymnasium Env class\n",
    "    \n",
    "    This is the gym wrapper class that allows our agent to interact with our environment. We need\n",
    "    to implement four main methods: step(), reset(), render(), and close(). We should also define\n",
    "    the action_space and observation space as class members.\n",
    "    \n",
    "    Note: on Windows, time.sleep() is only accurate to around 10ms. As a result, setting fps_limit\n",
    "    will give you a \"best effort\" limit.\n",
    "    \n",
    "    More information: https://gymnasium.farama.org/api/env/\n",
    "    \"\"\"\n",
    "    \n",
    "    def __init__(self, ctrl, timeout=0.0, stp_blocking=False):\n",
    "        \"\"\"\n",
    "        Set up the environment, action, and observation shapes. Optional tiemout in seconds.\n",
    "        \"\"\"\n",
    "        \n",
    "        # Call superclass's constructor\n",
    "        super().__init__()\n",
    "        \n",
    "        # Assign control comms object\n",
    "        self.ctrl = ctrl\n",
    "        \n",
    "        # Define action space (scalar signifying how many degrees to move stepper by)\n",
    "        self.action_space = gym.spaces.Box(\n",
    "            low=STP_MOVE_MIN,\n",
    "            high=STP_MOVE_MAX,\n",
    "            shape=(1, 1),\n",
    "            dtype=np.float32\n",
    "        )\n",
    "        \n",
    "        # Define observation space \n",
    "        # [encoder angle, encoder angular velocity, stepper angle, stepper angular velocity]\n",
    "        self.observation_space = gym.spaces.Box(\n",
    "            low=np.array([-180, -np.inf, STP_ANGLE_MIN, -np.inf]),\n",
    "            high=np.array([180, np.inf, STP_ANGLE_MAX, np.inf]),\n",
    "            dtype=np.float32\n",
    "        )\n",
    "        \n",
    "        # Record timesteps from microcontroller\n",
    "        self.timestamp = 0\n",
    "        \n",
    "        # Set current stepper position as \"home\" and optionally set blocking\n",
    "        controller.step(CMD_SET_HOME, [0])\n",
    "        if stp_blocking:\n",
    "            controller.step(CMD_SET_BLOCK_MODE, [1])\n",
    "        else:\n",
    "            controller.step(CMD_SET_BLOCK_MODE, [0])\n",
    "        \n",
    "    def step(self, action):\n",
    "        \"\"\"\n",
    "        What happens when you tell the stepper motor to do something then record the observation.\n",
    "        \"\"\"\n",
    "        \n",
    "        # Move the stepper motor and wait for a response\n",
    "        resp = self.ctrl.step(CMD_MOVE_BY, [action])\n",
    "        if resp:\n",
    "            status, timestamp, terminated, obs = resp\n",
    "        else:\n",
    "            print(\"ERROR: Could not communicate with Arduino\")\n",
    "        \n",
    "        # TODO\n",
    "        obs = self.observation_space.sample()\n",
    "        reward = 0.0\n",
    "        terminated = False\n",
    "        truncated = False\n",
    "        info = {}\n",
    "        \n",
    "        return obs, reward, terminated, truncated, info\n",
    "    \n",
    "    def reset(self):\n",
    "        \"\"\"\n",
    "        Return the pendulum to the starting position\n",
    "        \"\"\"\n",
    "        \n",
    "        # Let the pendulum fall and return to the starting position\n",
    "        time.sleep(1.0)\n",
    "        resp = self.ctrl.step(CMD_MOVE_TO, [0.0])\n",
    "        time.sleep(1.0)\n",
    "        \n",
    "        # TODO\n",
    "        obs = self.observation_space.sample()\n",
    "        info = {}\n",
    "        \n",
    "        return obs, info"
   ]
  },
  {
   "cell_type": "markdown",
   "id": "ac966999-8595-4e98-8a34-60ad251ce69c",
   "metadata": {},
   "source": [
    "## Test gym Environment\n",
    "\n",
    "Test the gym wrapper before training"
   ]
  },
  {
   "cell_type": "code",
   "execution_count": 15,
   "id": "79b6c823-05f7-4368-815d-353bd1acf23b",
   "metadata": {},
   "outputs": [
    {
     "name": "stdout",
     "output_type": "stream",
     "text": [
      "CTRL TEST: b'{\"status\":0,\"timestamp\":268541,\"terminated\":false,\"observation\":[344.40,0.00]}\\r\\n'\n",
      "CTRL TEST: b'{\"status\":0,\"timestamp\":268545,\"terminated\":false,\"observation\":[344.40,0.00]}\\r\\n'\n"
     ]
    }
   ],
   "source": [
    "# Create our environment\n",
    "try:\n",
    "    env.close()\n",
    "except NameError:\n",
    "    pass\n",
    "env = Pendulum(controller, stp_blocking=True, timeout=ENV_TIMEOUT)"
   ]
  },
  {
   "cell_type": "code",
   "execution_count": 25,
   "id": "656213f8-6fa8-4a41-828a-0761a601b384",
   "metadata": {},
   "outputs": [
    {
     "name": "stdout",
     "output_type": "stream",
     "text": [
      "CTRL TEST: b'{\"status\":0,\"timestamp\":400791,\"terminated\":false,\"observation\":[20.40,0.00]}\\r\\n'\n",
      "CTRL TEST: b'{\"status\":0,\"timestamp\":401849,\"terminated\":false,\"observation\":[7.80,0.00]}\\r\\n'\n",
      "CTRL TEST: b'{\"status\":0,\"timestamp\":401890,\"terminated\":false,\"observation\":[10.80,192.60]}\\r\\n'\n",
      "CTRL TEST: b'{\"status\":0,\"timestamp\":401934,\"terminated\":false,\"observation\":[12.90,183.60]}\\r\\n'\n",
      "CTRL TEST: b'{\"status\":0,\"timestamp\":401980,\"terminated\":false,\"observation\":[12.90,174.60]}\\r\\n'\n",
      "CTRL TEST: b'{\"status\":0,\"timestamp\":402020,\"terminated\":false,\"observation\":[13.80,165.60]}\\r\\n'\n",
      "CTRL TEST: b'{\"status\":0,\"timestamp\":402065,\"terminated\":false,\"observation\":[13.50,156.60]}\\r\\n'\n",
      "CTRL TEST: b'{\"status\":0,\"timestamp\":402110,\"terminated\":false,\"observation\":[12.30,147.60]}\\r\\n'\n",
      "CTRL TEST: b'{\"status\":0,\"timestamp\":402154,\"terminated\":false,\"observation\":[10.80,138.60]}\\r\\n'\n",
      "CTRL TEST: b'{\"status\":0,\"timestamp\":402198,\"terminated\":false,\"observation\":[9.30,129.60]}\\r\\n'\n",
      "CTRL TEST: b'{\"status\":0,\"timestamp\":402241,\"terminated\":false,\"observation\":[6.90,120.60]}\\r\\n'\n"
     ]
    }
   ],
   "source": [
    "# Try running the environment for a few steps\n",
    "env.reset()\n",
    "for _ in range(10):\n",
    "    obs, reward, terminated, truncated, info = env.step(-9)"
   ]
  },
  {
   "cell_type": "code",
   "execution_count": null,
   "id": "75c8710f-6a1b-4e54-ab1c-82cbc4d73080",
   "metadata": {},
   "outputs": [],
   "source": []
  },
  {
   "cell_type": "code",
   "execution_count": null,
   "id": "78fd1dbe-9a64-4684-a5d0-ffb6b7437820",
   "metadata": {},
   "outputs": [],
   "source": []
  }
 ],
 "metadata": {
  "kernelspec": {
   "display_name": "Python 3 (ipykernel)",
   "language": "python",
   "name": "python3"
  },
  "language_info": {
   "codemirror_mode": {
    "name": "ipython",
    "version": 3
   },
   "file_extension": ".py",
   "mimetype": "text/x-python",
   "name": "python",
   "nbconvert_exporter": "python",
   "pygments_lexer": "ipython3",
   "version": "3.10.10"
  }
 },
 "nbformat": 4,
 "nbformat_minor": 5
}
